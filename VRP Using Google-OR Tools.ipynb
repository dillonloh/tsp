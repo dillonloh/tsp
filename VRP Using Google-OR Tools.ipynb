{
 "cells": [
  {
   "cell_type": "code",
   "execution_count": 6,
   "id": "fa196aa8",
   "metadata": {},
   "outputs": [],
   "source": [
    "# import libs\n",
    "\n",
    "from ortools.linear_solver import pywraplp\n",
    "from ortools.init import pywrapinit\n",
    "from ortools.constraint_solver import routing_enums_pb2\n",
    "from ortools.constraint_solver import pywrapcp\n",
    "\n",
    "from scipy.spatial import distance_matrix\n",
    "\n",
    "import numpy as np\n",
    "import numpy.random as nr\n",
    "import networkx as nx\n",
    "import matplotlib.pyplot as plt\n",
    "import matplotlib.animation as animation\n",
    "import pandas as pd\n",
    "\n",
    "import random\n",
    "import copy\n",
    "import time\n",
    "import itertools\n",
    "import sqlite3\n"
   ]
  },
  {
   "cell_type": "code",
   "execution_count": 25,
   "id": "7f54443b",
   "metadata": {},
   "outputs": [],
   "source": [
    "# init parameters\n",
    "\n",
    "NO_TOWNS = 10 # number of towns (town numbering is from [0, NO_TOWNS-1])\n",
    "NO_AGENTS = 2\n",
    "STARTING_TOWN = 0 # set starting town\n",
    "nr.seed(69) # set fixed seed for rng\n",
    "\n"
   ]
  },
  {
   "cell_type": "code",
   "execution_count": 14,
   "id": "19770111",
   "metadata": {},
   "outputs": [],
   "source": [
    "# function for creating town coordinates\n",
    "def create_towns(NO_TOWNS):\n",
    "    \"\"\"generate random x and y coordinates for each town\"\"\"\n",
    "\n",
    "    towns_x = nr.randint(0, 100, NO_TOWNS) # x coordinates for NO_TOWNS number of towns\n",
    "    towns_y = nr.randint(0, 100, NO_TOWNS) # y coordinates for NO_TOWNS number of towns\n",
    "    \n",
    "    return towns_x, towns_y\n",
    "\n",
    "\n",
    "towns_x, towns_y = create_towns(NO_TOWNS) # generate coordinates for each town\n",
    "\n",
    "start_town_x = towns_x[STARTING_TOWN]\n",
    "start_town_y = towns_y[STARTING_TOWN]"
   ]
  },
  {
   "cell_type": "code",
   "execution_count": 40,
   "id": "55de538f",
   "metadata": {
    "scrolled": true
   },
   "outputs": [],
   "source": [
    "def create_distance_matrix(towns_x, towns_y):\n",
    "    \"\"\"create a matrix of pairwise distances between all towns\"\"\"\n",
    "    towns = list(range(NO_TOWNS))\n",
    "    df = pd.DataFrame(np.array([towns_x, towns_y]).transpose(), columns=['x', 'y'], index=towns)\n",
    "    distance_df = pd.DataFrame(distance_matrix(df.values, df.values), index=df.index, columns=df.index)\n",
    "    return np.round_(distance_df).astype(int)\n",
    "\n",
    "def create_waiting_time_matrix(method, t=13):\n",
    "    \n",
    "    \"\"\"\n",
    "    create a matrix of waiting times at each town\n",
    "    method = ['calculate', 'update']\n",
    "    \"\"\"\n",
    "    \n",
    "    if method == 'calculate':\n",
    "        \n",
    "        def time_fn(time):\n",
    "            return (t-13)**2 + 60\n",
    "        \n",
    "        matrix = np.array([time_fn(time), time_fn(time), time_fn(time), time_fn(time), time_fn(time), \n",
    "                           time_fn(time), time_fn(time), time_fn(time), time_fn(time), time_fn(time), ]) # each time function can be different\n",
    "        \n",
    "    elif method == 'update':\n",
    "        def time_update():\n",
    "            conn = sqlite3.connect('test.db') # connect to real_time waiting time database\n",
    "            df = pd.DataFrame(conn.execute('SELECT * FROM waiting_times').fetchall(), columns=['town_id', 'waiting_time'])\n",
    "            return df.to_numpy()[:, 1]\n",
    "        \n",
    "        matrix = time_update()  \n",
    "#     matrix = nr.randint(0, 30, NO_TOWNS)\n",
    "#     matrix[0] = 0\n",
    "    \n",
    "    return matrix\n",
    "\n",
    "# TIME DEPENDENT TRAVELLING SALESMAN PROBLEM\n",
    "# How to make graph, waiting time\n",
    "# waiting_time(town_id, current_time)\n",
    "\n",
    "\n",
    "dist_matrix = create_distance_matrix(towns_x, towns_y)\n",
    "waiting_time_matrix = create_waiting_time_matrix('calculate')\n"
   ]
  },
  {
   "cell_type": "code",
   "execution_count": 41,
   "id": "4fe8f2a7",
   "metadata": {
    "scrolled": false
   },
   "outputs": [
    {
     "data": {
      "text/plain": [
       "array([60, 60, 60, 60, 60, 60, 60, 60, 60, 60])"
      ]
     },
     "execution_count": 41,
     "metadata": {},
     "output_type": "execute_result"
    }
   ],
   "source": [
    "waiting_time_matrix"
   ]
  },
  {
   "cell_type": "code",
   "execution_count": 42,
   "id": "8b62b788",
   "metadata": {},
   "outputs": [],
   "source": [
    "def create_data_model():\n",
    "    \"\"\"Stores the data for the problem.\"\"\"\n",
    "    data = {}\n",
    "    data['dist_matrix'] = dist_matrix\n",
    "    data['waiting_time_matrix'] = waiting_time_matrix\n",
    "    data['num_vehicles'] = NO_AGENTS\n",
    "    data['depot'] = STARTING_TOWN\n",
    "    \n",
    "    return data\n",
    "\n",
    "\n",
    "def print_solution(data, manager, routing, solution):\n",
    "    \"\"\"Prints solution on console.\"\"\"\n",
    "    print(f'Objective: {solution.ObjectiveValue()}\\n')\n",
    "    \n",
    "    max_route_distance = 0\n",
    "    max_waiting_time = 0\n",
    "    routes = []\n",
    "    route_distances = []\n",
    "    route_waiting_times = []\n",
    "    \n",
    "    for vehicle_id in range(data['num_vehicles']):\n",
    "        index = routing.Start(vehicle_id)\n",
    "        plan_output = 'Route for vehicle {}:\\n'.format(vehicle_id)\n",
    "        \n",
    "        route = []\n",
    "        route_distance = 0\n",
    "        route_waiting_time = 0\n",
    "        \n",
    "        while not routing.IsEnd(index):\n",
    "            plan_output += ' {} -> '.format(manager.IndexToNode(index))\n",
    "            route.append(manager.IndexToNode(index))\n",
    "            previous_index = index\n",
    "            index = solution.Value(routing.NextVar(index))\n",
    "            route_distance += routing.GetArcCostForVehicle(\n",
    "                previous_index, index, vehicle_id)\n",
    "            route_waiting_time += data['waiting_time_matrix'][manager.IndexToNode(index)]\n",
    "        \n",
    "        routes.append(route)\n",
    "        route_distances.append(route_distance)\n",
    "        route_waiting_times.append(route_waiting_time)\n",
    "        \n",
    "        plan_output += '{}\\n'.format(manager.IndexToNode(index))\n",
    "        plan_output += 'Distance of the route: {}m\\n'.format(route_distance)\n",
    "        plan_output += 'Total Waiting Time along route: {} minutes\\n'.format(route_waiting_time)\n",
    "        print(plan_output)\n",
    "        max_route_distance = max(route_distance, max_route_distance)\n",
    "        max_waiting_time = max(route_waiting_time, max_waiting_time)\n",
    "        \n",
    "    print('Maximum of the route distances: {}m'.format(max_route_distance))\n",
    "    print('Maximum of the waiting times: {} minutes'.format(max_waiting_time))\n",
    "    \n",
    "    return routes, route_distances, route_waiting_times\n"
   ]
  },
  {
   "cell_type": "code",
   "execution_count": 43,
   "id": "e4c8d4e5",
   "metadata": {},
   "outputs": [],
   "source": [
    "# Creating callback function for travelling distance cost\n",
    "\n",
    "def distance_callback(from_index, to_index):\n",
    "    \"\"\"Returns the distance between the two nodes.\"\"\"\n",
    "    # Convert from routing variable Index to distance matrix NodeIndex.\n",
    "    from_node = manager.IndexToNode(from_index)\n",
    "    to_node = manager.IndexToNode(to_index)\n",
    "    \n",
    "    return data['dist_matrix'][from_node][to_node]\n",
    "\n",
    "# Creating callback function for waiting time cost\n",
    "def waiting_time_callback(to_index):\n",
    "    \"\"\"Returns the waiting time at a node\"\"\"\n",
    "    # Convert from routing variable index to time matrix NodeIndex\n",
    "    to_node = manager.IndexToNode(to_index)\n",
    "    \n",
    "    return data['waiting_time_matrix'][to_node]\n",
    "\n",
    "def cost_callback(from_index, to_index):\n",
    "    \"\"\"Returns the total cost\"\"\"\n",
    "    return distance_callback(from_index, to_index) + 4*waiting_time_callback(to_index)"
   ]
  },
  {
   "cell_type": "code",
   "execution_count": 44,
   "id": "f33d7b76",
   "metadata": {},
   "outputs": [
    {
     "name": "stdout",
     "output_type": "stream",
     "text": [
      "Wall time 0.11169099807739258\n",
      "CPU time 0.109375\n",
      "Objective: 21519\n",
      "\n",
      "Route for vehicle 0:\n",
      " 0 ->  9 ->  4 ->  1 ->  3 ->  2 -> 0\n",
      "Distance of the route: 208m\n",
      "Total Waiting Time along route: 360 minutes\n",
      "\n",
      "Route for vehicle 1:\n",
      " 0 ->  7 ->  5 ->  8 ->  6 -> 0\n",
      "Distance of the route: 211m\n",
      "Total Waiting Time along route: 300 minutes\n",
      "\n",
      "Maximum of the route distances: 211m\n",
      "Maximum of the waiting times: 360 minutes\n"
     ]
    }
   ],
   "source": [
    "\"\"\"Entry point of the program.\"\"\"\n",
    "\n",
    "walltime = time.time()\n",
    "cputime = time.process_time()\n",
    "\n",
    "# Instantiate the data problem.\n",
    "data = create_data_model()\n",
    "\n",
    "# Create the routing index manager.\n",
    "manager = pywrapcp.RoutingIndexManager(len(data['dist_matrix']),\n",
    "                                       data['num_vehicles'], data['depot'])\n",
    "\n",
    "# Create Routing Model.\n",
    "routing = pywrapcp.RoutingModel(manager)\n",
    "\n",
    "\n",
    "# Create and register a transit callback.\n",
    "transit_callback_index = routing.RegisterTransitCallback(distance_callback)\n",
    "\n",
    "# Define cost of each arc.\n",
    "routing.SetArcCostEvaluatorOfAllVehicles(transit_callback_index)\n",
    "\n",
    "\n",
    "# Add Distance constraint.\n",
    "routing.AddDimension(\n",
    "    transit_callback_index,\n",
    "    0,  # no slack\n",
    "    5000,  # vehicle maximum travel distance\n",
    "    True,  # start cumul to zero\n",
    "    'Distance')\n",
    "\n",
    "\n",
    "distance_dimension = routing.GetDimensionOrDie('Distance')\n",
    "distance_dimension.SetGlobalSpanCostCoefficient(100)\n",
    "\n",
    "\n",
    "# Setting first solution heuristic.\n",
    "search_parameters = pywrapcp.DefaultRoutingSearchParameters()\n",
    "search_parameters.first_solution_strategy = (\n",
    "    routing_enums_pb2.FirstSolutionStrategy.AUTOMATIC)\n",
    "\n",
    "# Setting time limit on solver\n",
    "search_parameters.time_limit.seconds = 60\n",
    "\n",
    "# Solve the problem.\n",
    "solution = routing.SolveWithParameters(search_parameters)\n",
    "\n",
    "self_walltime = time.time()-walltime\n",
    "self_cputime = time.process_time()-cputime\n",
    "\n",
    "print('Wall time', self_walltime)\n",
    "print('CPU time', self_cputime)\n",
    "\n",
    "# Print solution on console.\n",
    "if solution:\n",
    "    routes, route_distances, route_waiting_times = print_solution(data, manager, routing, solution)\n",
    "else:\n",
    "    print('No solution found !')\n"
   ]
  },
  {
   "cell_type": "code",
   "execution_count": 45,
   "id": "38fc8d92",
   "metadata": {},
   "outputs": [],
   "source": [
    "def plot_routes(routes, waitingtime=False):\n",
    "    \"\"\"plot the routes for each vehicle\"\"\"\n",
    "    \n",
    "    plt.figure(figsize=(6, 6))\n",
    "    \n",
    "    # loop through vehicles\n",
    "    \n",
    "    for route in routes:\n",
    "        closed_route = route.append(STARTING_TOWN)\n",
    "        plt.plot(towns_x[route], towns_y[route], 'o-')\n",
    "        plt.plot(towns_x[STARTING_TOWN], towns_y[STARTING_TOWN], 'or', markerfacecolor='w') #indicate start position with X\n",
    "        plt.title(f'OR-Tools VRP Solver\\n{NO_TOWNS} Waypoints, {NO_AGENTS} Robots\\nTime taken: {self_walltime:.3}s')\n",
    "        \n",
    "    if waitingtime == True:\n",
    "        for town in range(NO_TOWNS):\n",
    "        \n",
    "#         plt.text(towns_x[town]-1, towns_y[town]-3, s=town, c='red')\n",
    "            plt.text(towns_x[town]+2, towns_y[town]+2, s=waiting_time_matrix[town])\n",
    "        \n",
    "#     for town in range(NO_TOWNS):\n",
    "#         plt.text(towns_x[town]+1, towns_y[town]+1, s=waiting_time_matrix[town])\n",
    "\n",
    "#     for town in range(NO_TOWNS):        \n",
    "#         plt.text(towns_x[town]-1, towns_y[town]-3, s=town, c='red')"
   ]
  },
  {
   "cell_type": "code",
   "execution_count": 46,
   "id": "4604462b",
   "metadata": {},
   "outputs": [
    {
     "data": {
      "image/png": "[encoded data removed]",
      "text/plain": [
       "<Figure size 432x432 with 1 Axes>"
      ]
     },
     "metadata": {
      "needs_background": "light"
     },
     "output_type": "display_data"
    }
   ],
   "source": [
    "plot_routes(routes)"
   ]
  },
  {
   "cell_type": "markdown",
   "id": "fcbd7681",
   "metadata": {},
   "source": [
    "# With 'Waiting Time' cost"
   ]
  },
  {
   "cell_type": "code",
   "execution_count": 47,
   "id": "43237dd4",
   "metadata": {},
   "outputs": [
    {
     "name": "stdout",
     "output_type": "stream",
     "text": [
      "Wall time 1.798811435699463\n",
      "CPU time 1.78125\n",
      "No solution found !\n"
     ]
    }
   ],
   "source": [
    "\"\"\"Entry point of the program.\"\"\"\n",
    "\n",
    "walltime = time.time()\n",
    "cputime = time.process_time()\n",
    "\n",
    "# Instantiate the data problem.\n",
    "data = create_data_model()\n",
    "\n",
    "# Create the routing index manager.\n",
    "manager = pywrapcp.RoutingIndexManager(len(data['dist_matrix']),\n",
    "                                       data['num_vehicles'], data['depot'])\n",
    "\n",
    "# Create Routing Model.\n",
    "routing = pywrapcp.RoutingModel(manager)\n",
    "\n",
    "\n",
    "# Create and register a transit callback.\n",
    "transit_callback_index = routing.RegisterTransitCallback(distance_callback)\n",
    "\n",
    "# Define cost of each arc.\n",
    "routing.SetArcCostEvaluatorOfAllVehicles(transit_callback_index)\n",
    "\n",
    "# Create and register a waiting time callback.\n",
    "wait_callback_index = routing.RegisterUnaryTransitCallback(waiting_time_callback)\n",
    "\n",
    "# Add Distance constraint.\n",
    "routing.AddDimension(\n",
    "    transit_callback_index,\n",
    "    0,  # no slack\n",
    "    1000,  # vehicle maximum travel distance\n",
    "    True,  # start cumul to zero\n",
    "    'Distance')\n",
    "\n",
    "# Add Waiting Time constraint\n",
    "routing.AddDimension(\n",
    "    wait_callback_index,\n",
    "    0,\n",
    "    200,\n",
    "    True,\n",
    "    'Waiting Time')\n",
    "\n",
    "distance_dimension = routing.GetDimensionOrDie('Distance')\n",
    "distance_dimension.SetGlobalSpanCostCoefficient(100)\n",
    "\n",
    "time_dimension = routing.GetDimensionOrDie('Waiting Time')\n",
    "time_dimension.SetGlobalSpanCostCoefficient(100)\n",
    "\n",
    "# Setting first solution heuristic.\n",
    "search_parameters = pywrapcp.DefaultRoutingSearchParameters()\n",
    "search_parameters.first_solution_strategy = (\n",
    "    routing_enums_pb2.FirstSolutionStrategy.PATH_CHEAPEST_ARC)\n",
    "\n",
    "# Setting time limit on solver\n",
    "search_parameters.time_limit.seconds = 30\n",
    "\n",
    "# Solve the problem.\n",
    "solution = routing.SolveWithParameters(search_parameters)\n",
    "\n",
    "self_walltime = time.time()-walltime\n",
    "self_cputime = time.process_time()-cputime\n",
    "\n",
    "print('Wall time', self_walltime)\n",
    "print('CPU time', self_cputime)\n",
    "\n",
    "# Print solution on console.\n",
    "if solution:\n",
    "    routes, route_distances, route_waiting_times = print_solution(data, manager, routing, solution)\n",
    "else:\n",
    "    print('No solution found !')\n"
   ]
  },
  {
   "cell_type": "code",
   "execution_count": 48,
   "id": "db1573a3",
   "metadata": {},
   "outputs": [],
   "source": [
    "def plot_routes(routes):\n",
    "    \"\"\"plot the routes for each vehicle\"\"\"\n",
    "    \n",
    "    plt.figure(figsize=(6, 6))\n",
    "    \n",
    "    # loop through vehicles\n",
    "    \n",
    "    for route in routes:\n",
    "        closed_route = route.append(STARTING_TOWN)\n",
    "        plt.plot(towns_x[route], towns_y[route], 'o-')\n",
    "        plt.plot(towns_x[STARTING_TOWN], towns_y[STARTING_TOWN], 'or', markerfacecolor='w') #indicate start position with X\n",
    "        plt.title(f'OR-Tools VRP Solver\\n{NO_TOWNS} Waypoints, {NO_AGENTS} Robots\\nTime taken: {self_walltime:.3}s')\n",
    "        \n",
    "    for town in range(NO_TOWNS):\n",
    "        \n",
    "#         plt.text(towns_x[town]-1, towns_y[town]-3, s=town, c='red')\n",
    "        plt.text(towns_x[town]+2, towns_y[town]+2, s=waiting_time_matrix[town])\n",
    "        "
   ]
  },
  {
   "cell_type": "code",
   "execution_count": 49,
   "id": "c1144cbc",
   "metadata": {},
   "outputs": [
    {
     "data": {
      "image/png": "[encoded data removed]",
      "text/plain": [
       "<Figure size 432x432 with 1 Axes>"
      ]
     },
     "metadata": {
      "needs_background": "light"
     },
     "output_type": "display_data"
    }
   ],
   "source": [
    "plot_routes(routes)"
   ]
  },
  {
   "cell_type": "code",
   "execution_count": null,
   "id": "e9f80714",
   "metadata": {},
   "outputs": [],
   "source": [
    "# Add dynamic time function\n",
    "\n"
   ]
  },
  {
   "cell_type": "code",
   "execution_count": null,
   "id": "16dfbff8",
   "metadata": {},
   "outputs": [],
   "source": []
  }
 ],
 "metadata": {
  "kernelspec": {
   "display_name": "Python 3 (ipykernel)",
   "language": "python",
   "name": "python3"
  },
  "language_info": {
   "codemirror_mode": {
    "name": "ipython",
    "version": 3
   },
   "file_extension": ".py",
   "mimetype": "text/x-python",
   "name": "python",
   "nbconvert_exporter": "python",
   "pygments_lexer": "ipython3",
   "version": "3.10.5"
  }
 },
 "nbformat": 4,
 "nbformat_minor": 5
}
